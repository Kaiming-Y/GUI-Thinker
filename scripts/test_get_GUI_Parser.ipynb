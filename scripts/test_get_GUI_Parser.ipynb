{
 "cells": [
  {
   "cell_type": "code",
   "execution_count": 4,
   "metadata": {},
   "outputs": [
    {
     "name": "stderr",
     "output_type": "stream",
     "text": [
      "c:\\Program Files\\anaconda3\\envs\\guithinker\\Lib\\site-packages\\pywinauto\\__init__.py:80: UserWarning: Revert to STA COM threading mode\n",
      "  warnings.warn(\"Revert to STA COM threading mode\", UserWarning)\n"
     ]
    }
   ],
   "source": [
    "import os\n",
    "import json\n",
    "import copy\n",
    "import subprocess\n",
    "import sys\n",
    "import time\n",
    "import pyautogui\n",
    "# sys.path.append(os.path.abspath(os.path.dirname(__file__)))\n",
    "from agent.actor.sender import send_actor_request\n",
    "from agent.gui_parser.sender import send_gui_parser_request\n",
    "from agent.utils.gui_capture import get_screenshot, focus_software\n",
    "from agent.actor.utils import format_gui, compress_gui\n",
    "from agent.config import basic_config\n",
    "from test_utils import get_projfile_path, open_projfile"
   ]
  },
  {
   "cell_type": "code",
   "execution_count": 5,
   "metadata": {},
   "outputs": [],
   "source": [
    "def find_and_enter_directory(path, prefix):\n",
    "    for folder in os.listdir(path):\n",
    "        folder_path = os.path.join(path, folder)\n",
    "        if os.path.isdir(folder_path) and folder.startswith(prefix):\n",
    "            # os.chdir(folder_path)\n",
    "            # os.getcwd()\n",
    "            # os.chdir(\"D:\\\\workspace\\\\BasicGUI-Agent\\\\test_examples\")\n",
    "            return folder_path\n",
    "    return None"
   ]
  },
  {
   "cell_type": "code",
   "execution_count": 6,
   "metadata": {},
   "outputs": [],
   "source": [
    "software_name = \"Adobe Acrobat\"\n",
    "\n",
    "# Project File Settings\n",
    "proj_num = \"00\"\n",
    "have_projfile = True\n",
    "\n",
    "proj_root_dir = \"D:\\\\data\\\\vlc\"\n",
    "proj_id = f\"VLC{proj_num}\"\n",
    "ProjectID = proj_id\n",
    "proj_dir = os.path.join(proj_root_dir, proj_id)\n",
    "video_path = os.path.join(proj_dir, f\"{proj_id}.mp4\")\n",
    "\n",
    "projfile_path = get_projfile_path(software_name, video_path) if have_projfile else None"
   ]
  },
  {
   "cell_type": "code",
   "execution_count": null,
   "metadata": {},
   "outputs": [
    {
     "name": "stdout",
     "output_type": "stream",
     "text": [
      "project.mp4 - VLC media player\n",
      "<pywinauto.application.WindowSpecification object at 0x00000203E4439250>\n",
      "Time used: 0.38138341903686523\n"
     ]
    }
   ],
   "source": [
    "open_projfile(software_name, projfile_path)\n",
    "focus_software(software_name)\n",
    "pre_action = \"from pyautogui import click, write, moveTo, press, dragTo, mouseDown, mouseUp, scroll\\nfrom time import sleep\\n\\\n",
    "hotkey('alt', 's')\\nmoveTo()\"\n",
    "exec(pre_action)\n",
    "time.sleep(2)\n",
    "\n",
    "meta_data, screenshot_path = get_screenshot(software_name=software_name)"
   ]
  },
  {
   "cell_type": "code",
   "execution_count": 55,
   "metadata": {},
   "outputs": [],
   "source": [
    "parsed_screenshot = send_gui_parser_request(basic_config['gui_parser']['url'], software_name, screenshot_path, meta_data, task_id='test', step_id=0)\n",
    "gui_info = compress_gui(copy.deepcopy(parsed_screenshot))\n",
    "gui_info = \"\\n\".join(format_gui(gui_info))\n",
    "## save parser results\n",
    "json.dump(meta_data, open(\"meta_data_vlc.json\", \"w\"), indent=4)\n",
    "json.dump(parsed_screenshot, open(\"parsed_screenshot_vlc.json\", \"w\"), indent=4)"
   ]
  },
  {
   "cell_type": "code",
   "execution_count": 88,
   "metadata": {},
   "outputs": [],
   "source": [
    "focus_software(software_name)\n",
    "pre_action = \"from pyautogui import click, write, moveTo, press, dragTo, hotkey, mouseDown, mouseUp, scroll\\nfrom time import sleep\\n\\\n",
    "moveTo(148, 1003, 0.5)\"\n",
    "exec(pre_action)"
   ]
  },
  {
   "cell_type": "code",
   "execution_count": 92,
   "metadata": {},
   "outputs": [],
   "source": [
    "## save actions\n",
    "\n",
    "## Set the aug number\n",
    "augnum = \"2\"\n",
    "pre_action = \"from pyautogui import click, moveTo\\nmoveTo(148, 1003, 0.5)\\nclick(148, 1003)\"\n",
    "\n",
    "preaction_file = proj_id + \"_aug_\" + augnum +\".json\"\n",
    "saved_aug_actions = os.path.join(proj_dir, preaction_file)\n",
    "json.dump(pre_action, open(saved_aug_actions, \"w\"), indent=4)"
   ]
  },
  {
   "cell_type": "code",
   "execution_count": null,
   "metadata": {},
   "outputs": [],
   "source": []
  }
 ],
 "metadata": {
  "kernelspec": {
   "display_name": "guithinker",
   "language": "python",
   "name": "python3"
  },
  "language_info": {
   "codemirror_mode": {
    "name": "ipython",
    "version": 3
   },
   "file_extension": ".py",
   "mimetype": "text/x-python",
   "name": "python",
   "nbconvert_exporter": "python",
   "pygments_lexer": "ipython3",
   "version": "3.11.11"
  },
  "orig_nbformat": 4
 },
 "nbformat": 4,
 "nbformat_minor": 2
}
